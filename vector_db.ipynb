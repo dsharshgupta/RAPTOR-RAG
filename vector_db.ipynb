{
 "cells": [
  {
   "cell_type": "code",
   "execution_count": null,
   "metadata": {},
   "outputs": [],
   "source": [
    "from langchain_google_genai import ChatGoogleGenerativeAI,GoogleGenerativeAIEmbeddings\n",
    "import joblib"
   ]
  },
  {
   "cell_type": "code",
   "execution_count": 19,
   "metadata": {},
   "outputs": [],
   "source": [
    "import joblib\n",
    "results = joblib.load('triology.joblib')\n",
    "docs_texts = joblib.load('triology_docs.joblib')"
   ]
  },
  {
   "cell_type": "code",
   "execution_count": 20,
   "metadata": {},
   "outputs": [],
   "source": [
    "# # Initialize all_texts with leaf_texts\n",
    "leaf_texts = docs_texts\n",
    "all_texts = leaf_texts.copy()\n",
    "\n",
    "# Iterate through the results to extract summaries from each level and add them to all_texts\n",
    "for level in sorted(results.keys()):\n",
    "    # Extract summaries from the current level's DataFrame\n",
    "    summaries = results[level][1][\"summaries\"].tolist()\n",
    "    # Extend all_texts with the summaries from the current level\n",
    "    all_texts.extend(summaries)"
   ]
  },
  {
   "cell_type": "code",
   "execution_count": 36,
   "metadata": {},
   "outputs": [],
   "source": [
    "from pymilvus import MilvusClient\n",
    "\n",
    "milvus_client = MilvusClient(host='172.19.14.186',port=19530)\n",
    "\n",
    "collection_name = \"triology1\""
   ]
  },
  {
   "cell_type": "code",
   "execution_count": 37,
   "metadata": {},
   "outputs": [],
   "source": [
    "milvus_client.create_collection(\n",
    "    collection_name=collection_name,\n",
    "    dimension=768,\n",
    "    metric_type=\"IP\",  # Inner product distance\n",
    "    consistency_level=\"Strong\",  # Strong consistency level\n",
    ")"
   ]
  },
  {
   "cell_type": "code",
   "execution_count": 43,
   "metadata": {},
   "outputs": [],
   "source": [
    "embedings = GoogleGenerativeAIEmbeddings(model=\"models/text-embedding-004\").embed_documents(all_texts)"
   ]
  },
  {
   "cell_type": "code",
   "execution_count": 44,
   "metadata": {},
   "outputs": [
    {
     "name": "stderr",
     "output_type": "stream",
     "text": [
      "Creating embeddings: 100%|██████████| 1076/1076 [00:00<00:00, 182449.51it/s]"
     ]
    },
    {
     "name": "stderr",
     "output_type": "stream",
     "text": [
      "\n"
     ]
    },
    {
     "data": {
      "text/plain": [
       "{'insert_count': 1076,\n",
       " 'ids': [0, 1, 2, 3, 4, 5, 6, 7, 8, 9, 10, 11, 12, 13, 14, 15, 16, 17, 18, 19, 20, 21, 22, 23, 24, 25, 26, 27, 28, 29, 30, 31, 32, 33, 34, 35, 36, 37, 38, 39, 40, 41, 42, 43, 44, 45, 46, 47, 48, 49, 50, 51, 52, 53, 54, 55, 56, 57, 58, 59, 60, 61, 62, 63, 64, 65, 66, 67, 68, 69, 70, 71, 72, 73, 74, 75, 76, 77, 78, 79, 80, 81, 82, 83, 84, 85, 86, 87, 88, 89, 90, 91, 92, 93, 94, 95, 96, 97, 98, 99, 100, 101, 102, 103, 104, 105, 106, 107, 108, 109, 110, 111, 112, 113, 114, 115, 116, 117, 118, 119, 120, 121, 122, 123, 124, 125, 126, 127, 128, 129, 130, 131, 132, 133, 134, 135, 136, 137, 138, 139, 140, 141, 142, 143, 144, 145, 146, 147, 148, 149, 150, 151, 152, 153, 154, 155, 156, 157, 158, 159, 160, 161, 162, 163, 164, 165, 166, 167, 168, 169, 170, 171, 172, 173, 174, 175, 176, 177, 178, 179, 180, 181, 182, 183, 184, 185, 186, 187, 188, 189, 190, 191, 192, 193, 194, 195, 196, 197, 198, 199, 200, 201, 202, 203, 204, 205, 206, 207, 208, 209, 210, 211, 212, 213, 214, 215, 216, 217, 218, 219, 220, 221, 222, 223, 224, 225, 226, 227, 228, 229, 230, 231, 232, 233, 234, 235, 236, 237, 238, 239, 240, 241, 242, 243, 244, 245, 246, 247, 248, 249, 250, 251, 252, 253, 254, 255, 256, 257, 258, 259, 260, 261, 262, 263, 264, 265, 266, 267, 268, 269, 270, 271, 272, 273, 274, 275, 276, 277, 278, 279, 280, 281, 282, 283, 284, 285, 286, 287, 288, 289, 290, 291, 292, 293, 294, 295, 296, 297, 298, 299, 300, 301, 302, 303, 304, 305, 306, 307, 308, 309, 310, 311, 312, 313, 314, 315, 316, 317, 318, 319, 320, 321, 322, 323, 324, 325, 326, 327, 328, 329, 330, 331, 332, 333, 334, 335, 336, 337, 338, 339, 340, 341, 342, 343, 344, 345, 346, 347, 348, 349, 350, 351, 352, 353, 354, 355, 356, 357, 358, 359, 360, 361, 362, 363, 364, 365, 366, 367, 368, 369, 370, 371, 372, 373, 374, 375, 376, 377, 378, 379, 380, 381, 382, 383, 384, 385, 386, 387, 388, 389, 390, 391, 392, 393, 394, 395, 396, 397, 398, 399, 400, 401, 402, 403, 404, 405, 406, 407, 408, 409, 410, 411, 412, 413, 414, 415, 416, 417, 418, 419, 420, 421, 422, 423, 424, 425, 426, 427, 428, 429, 430, 431, 432, 433, 434, 435, 436, 437, 438, 439, 440, 441, 442, 443, 444, 445, 446, 447, 448, 449, 450, 451, 452, 453, 454, 455, 456, 457, 458, 459, 460, 461, 462, 463, 464, 465, 466, 467, 468, 469, 470, 471, 472, 473, 474, 475, 476, 477, 478, 479, 480, 481, 482, 483, 484, 485, 486, 487, 488, 489, 490, 491, 492, 493, 494, 495, 496, 497, 498, 499, 500, 501, 502, 503, 504, 505, 506, 507, 508, 509, 510, 511, 512, 513, 514, 515, 516, 517, 518, 519, 520, 521, 522, 523, 524, 525, 526, 527, 528, 529, 530, 531, 532, 533, 534, 535, 536, 537, 538, 539, 540, 541, 542, 543, 544, 545, 546, 547, 548, 549, 550, 551, 552, 553, 554, 555, 556, 557, 558, 559, 560, 561, 562, 563, 564, 565, 566, 567, 568, 569, 570, 571, 572, 573, 574, 575, 576, 577, 578, 579, 580, 581, 582, 583, 584, 585, 586, 587, 588, 589, 590, 591, 592, 593, 594, 595, 596, 597, 598, 599, 600, 601, 602, 603, 604, 605, 606, 607, 608, 609, 610, 611, 612, 613, 614, 615, 616, 617, 618, 619, 620, 621, 622, 623, 624, 625, 626, 627, 628, 629, 630, 631, 632, 633, 634, 635, 636, 637, 638, 639, 640, 641, 642, 643, 644, 645, 646, 647, 648, 649, 650, 651, 652, 653, 654, 655, 656, 657, 658, 659, 660, 661, 662, 663, 664, 665, 666, 667, 668, 669, 670, 671, 672, 673, 674, 675, 676, 677, 678, 679, 680, 681, 682, 683, 684, 685, 686, 687, 688, 689, 690, 691, 692, 693, 694, 695, 696, 697, 698, 699, 700, 701, 702, 703, 704, 705, 706, 707, 708, 709, 710, 711, 712, 713, 714, 715, 716, 717, 718, 719, 720, 721, 722, 723, 724, 725, 726, 727, 728, 729, 730, 731, 732, 733, 734, 735, 736, 737, 738, 739, 740, 741, 742, 743, 744, 745, 746, 747, 748, 749, 750, 751, 752, 753, 754, 755, 756, 757, 758, 759, 760, 761, 762, 763, 764, 765, 766, 767, 768, 769, 770, 771, 772, 773, 774, 775, 776, 777, 778, 779, 780, 781, 782, 783, 784, 785, 786, 787, 788, 789, 790, 791, 792, 793, 794, 795, 796, 797, 798, 799, 800, 801, 802, 803, 804, 805, 806, 807, 808, 809, 810, 811, 812, 813, 814, 815, 816, 817, 818, 819, 820, 821, 822, 823, 824, 825, 826, 827, 828, 829, 830, 831, 832, 833, 834, 835, 836, 837, 838, 839, 840, 841, 842, 843, 844, 845, 846, 847, 848, 849, 850, 851, 852, 853, 854, 855, 856, 857, 858, 859, 860, 861, 862, 863, 864, 865, 866, 867, 868, 869, 870, 871, 872, 873, 874, 875, 876, 877, 878, 879, 880, 881, 882, 883, 884, 885, 886, 887, 888, 889, 890, 891, 892, 893, 894, 895, 896, 897, 898, 899, 900, 901, 902, 903, 904, 905, 906, 907, 908, 909, 910, 911, 912, 913, 914, 915, 916, 917, 918, 919, 920, 921, 922, 923, 924, 925, 926, 927, 928, 929, 930, 931, 932, 933, 934, 935, 936, 937, 938, 939, 940, 941, 942, 943, 944, 945, 946, 947, 948, 949, 950, 951, 952, 953, 954, 955, 956, 957, 958, 959, 960, 961, 962, 963, 964, 965, 966, 967, 968, 969, 970, 971, 972, 973, 974, 975, 976, 977, 978, 979, 980, 981, 982, 983, 984, 985, 986, 987, 988, 989, 990, 991, 992, 993, 994, 995, 996, 997, 998, 999, 1000, 1001, 1002, 1003, 1004, 1005, 1006, 1007, 1008, 1009, 1010, 1011, 1012, 1013, 1014, 1015, 1016, 1017, 1018, 1019, 1020, 1021, 1022, 1023, 1024, 1025, 1026, 1027, 1028, 1029, 1030, 1031, 1032, 1033, 1034, 1035, 1036, 1037, 1038, 1039, 1040, 1041, 1042, 1043, 1044, 1045, 1046, 1047, 1048, 1049, 1050, 1051, 1052, 1053, 1054, 1055, 1056, 1057, 1058, 1059, 1060, 1061, 1062, 1063, 1064, 1065, 1066, 1067, 1068, 1069, 1070, 1071, 1072, 1073, 1074, 1075],\n",
       " 'cost': 0}"
      ]
     },
     "execution_count": 44,
     "metadata": {},
     "output_type": "execute_result"
    }
   ],
   "source": [
    "from tqdm import tqdm\n",
    "\n",
    "data = []\n",
    "\n",
    "for i, line in enumerate(tqdm(all_texts, desc=\"Creating embeddings\")):\n",
    "    data.append({\"id\": i, \"vector\": embedings[i], \"text\": line})\n",
    "\n",
    "milvus_client.insert(collection_name=collection_name, data=data)"
   ]
  },
  {
   "cell_type": "code",
   "execution_count": 45,
   "metadata": {},
   "outputs": [],
   "source": [
    "question = \"Who is sita?\"\n"
   ]
  },
  {
   "cell_type": "code",
   "execution_count": 46,
   "metadata": {},
   "outputs": [],
   "source": [
    "search_res = milvus_client.search(\n",
    "    collection_name=collection_name,\n",
    "    data=[\n",
    "        GoogleGenerativeAIEmbeddings(model=\"models/text-embedding-004\").embed_query(question)\n",
    "    ],  # Use the `emb_text` function to convert the question to an embedding vector\n",
    "    limit=3,  # Return top 3 results\n",
    "    search_params={\"metric_type\": \"IP\", \"params\": {}},  # Inner product distance\n",
    "    output_fields=[\"text\"],  # Return the text field\n",
    ")"
   ]
  },
  {
   "cell_type": "code",
   "execution_count": 47,
   "metadata": {},
   "outputs": [
    {
     "data": {
      "text/plain": [
       "data: ['[{\\'id\\': 1034, \\'distance\\': 0.6961197853088379, \\'entity\\': {\\'text\\': \"The provided text is an excerpt from a novel, likely focusing on the life of Sita, a prominent figure in Hindu mythology. While the specific novel is not named, we can glean several key pieces of information:\\\\n\\\\n**Characters and Relationships:**\\\\n\\\\n* **Sita:** The protagonist, a young girl at the start of the excerpt, dealing with the death of her mother, Sunaina. \\\\n* **Sunaina:** Sita\\'s mother, recently deceased. She comes across as strong-willed, wise, and deeply caring for her daughters. \\\\n* **Janak:** Sita\\'s father, the king of Mithila. He appears absorbed in his philosophical pursuits, even in the face of personal tragedy.\\\\n* **Urmila:** Sita\\'s younger sister, four years old and sickly. \\\\n* **Kushadhwaj:**  Janak\\'s younger brother, who dotes on Sita.\\\\n* **Samichi and Radhika:** Sita\\'s friends, offering comfort and support during her grief.\\\\n\\\\n**Setting:**\\\\n\\\\n* The story unfolds in ancient India, primarily in and around Mithila, a kingdom ruled by Sita\\'s father.\\\\n\\\\n**Plot Summary:**\\\\n\\\\nThe excerpt begins with a flashback, showcasing a younger Sita receiving a prized Arabian horse as a gift from her doting uncle, Kushadhwaj.  This scene establishes the close familial bonds and the lavish setting of Sita\\'s upbringing. \\\\n\\\\nThe narrative shifts to a poignant scene where Sunaina, despite her frail health, takes Sita on an elephant ride into the jungle.  This journey becomes a metaphor for life\\'s journey, with Sunaina imparting valuable lessons to her daughter. They witness the death of an elephant matriarch and the subsequent behavior of the herd, which Sunaina uses to illustrate the importance of moving forward despite loss and confronting challenges head-on.\\\\n\\\\nTragically, Sunaina\\'s health deteriorates, and she passes away. The story then depicts Sita\\'s grief and her struggle to come to terms with her mother\\'s death.  The cremation ceremony serves as a turning point, with Sita vowing to fulfill her destiny and make her mother proud.\\\\n\\\\n**Themes:**\\\\n\\\\n* **Death and Loss:** The excerpt poignantly portrays the impact of Sunaina\\'s death on Sita and those around her.\\\\n* **Mother-Daughter Bond:** The deep love and wisdom shared between Sunaina and Sita form a central theme.\\\\n* **Life Lessons:** Through the elephant herd and her own words, Sunaina imparts valuable lessons about resilience, courage, and acceptance.\\\\n* **Destiny and Duty:** The ending hints at a greater purpose awaiting Sita and the challenges she must face.\\\\n\\\\n**Overall Impression:**\\\\n\\\\nThe excerpt is beautifully written, evocative in its descriptions and emotionally resonant. It sets the stage for a captivating story exploring themes of love, loss, destiny, and the strength of a young woman facing a world of challenges. \\\\n\"}}, {\\'id\\': 1074, \\'distance\\': 0.6914818286895752, \\'entity\\': {\\'text\\': \"You\\'ve provided six different excerpts, all seemingly focused on Sita, but with different storylines and writing styles. It\\'s difficult to provide a single detailed summary without knowing if these excerpts are from the same book or different interpretations of Sita\\'s life. \\\\n\\\\n**Here\\'s a breakdown of each excerpt and their individual summaries:**\\\\n\\\\n**Excerpt 1:** Focuses on Sunaina finding baby Sita and her upbringing in Mithila. \\\\n**Themes:** Motherhood, compassion, foreshadowing of future conflicts.\\\\n\\\\n**Excerpt 2:** Depicts Sita\\'s first encounter with poverty and her mother\\'s teachings about social responsibility.\\\\n**Themes:** Social inequality, compassion, justice, coming-of-age.\\\\n\\\\n**Excerpt 3:** Showcases Sita\\'s skills in chariot racing, combat, and hunting.\\\\n**Themes:**  Courage, skill, compassion, female empowerment.\\\\n\\\\n**Excerpt 4:**  Centers on Sunaina\\'s death and its impact on Sita, highlighting life lessons and the mother-daughter bond.\\\\n**Themes:** Death, loss, mother-daughter bond, resilience, destiny.\\\\n\\\\n**Excerpt 5:**  Focuses on Sunaina\\'s declining health, potential political intrigue, and her guidance for Sita\\'s future leadership.\\\\n**Themes:** Loss, responsibility, courage, sibling relationships.\\\\n\\\\n**Excerpt 6:** This section seems to be a general overview of recurring themes from the previous excerpts, emphasizing Sita\\'s growth and the challenges she faces.\\\\n**Themes:**  Loss, leadership, political intrigue, personal growth.\\\\n\\\\n**Overall:**\\\\n\\\\nThese excerpts, when viewed together, suggest a multifaceted exploration of Sita\\'s life beyond the traditional Ramayana narrative. They highlight her upbringing, her relationship with her family, her personal strengths, and the challenges she faces as a young woman in a position of power.\\\\n\\\\n**To help me understand better:**\\\\n\\\\n* **Are these excerpts from the same book?**\\\\n* **What is the title of the book(s)?**\\\\n* **Are you looking for a summary of a particular theme or aspect of Sita\\'s life?**\\\\n\\\\nOnce I have more context, I can provide a more comprehensive and focused summary. \\\\n\"}}, {\\'id\\': 1031, \\'distance\\': 0.6851560473442078, \\'entity\\': {\\'text\\': \"The provided text appears to be an excerpt from a novel or story, likely a historical fiction piece centered around the character Sita from the Hindu epic Ramayana. \\\\n\\\\n**Setting & Characters:**\\\\n\\\\n* **Mithila:** The story takes place in the kingdom of Mithila, known for its intellectual atmosphere. \\\\n* **King Janak:** The king of Mithila, known for his wisdom and piety. He\\'s shown as a character struggling with an internal conflict, possibly related to Sita\\'s true origins.\\\\n* **Queen Sunaina:** Janak\\'s wife, presented as a pragmatic and loving mother figure to Sita.\\\\n* **Sita:** The central character, around eight years old. The excerpt hints at a mystery surrounding her birth and adoption by Janak and Sunaina.\\\\n* **Rishi Ashtavakra:** A revered sage and Janak\\'s chief guru, known for his wisdom despite physical deformities.\\\\n* **Vishwamitra:** Another important Rishi, visiting Mithila with his students, the Malayaputras. He appears observant and compassionate.\\\\n* **Shvetaketu:** Possibly a minister or advisor to Janak.\\\\n* **Jatayu:** A deformed man, ostracized for his appearance but recognized for his noble spirit by Vishwamitra.\\\\n* **Arishtanemi:** The chief of the Malayaputras, Vishwamitra\\'s student.\\\\n\\\\n**Plot Summary:**\\\\n\\\\nThe excerpt doesn\\'t follow a linear plot but offers glimpses into different situations and character interactions. \\\\n\\\\n* **Janak\\'s Dilemma:** The story starts with Janak seeking guidance from Rishi Ashtavakra, suggesting an internal conflict. This is juxtaposed with young Sita\\'s confusion about her own identity and whispers about her being adopted.\\\\n* **Sita\\'s Compassion:** The narrative shifts to Vishwamitra and his students visiting Mithila. Sita, witnessing the ostracized Jatayu, displays remarkable empathy by serving him food despite his appearance, a gesture noticed by Vishwamitra.\\\\n\\\\n**Themes:**\\\\n\\\\n* **Appearance vs. Reality:** The contrast between Ashtavakra\\'s physical deformities and his wisdom, as well as Jatayu\\'s ostracized state despite his noble heart, highlights the theme of judging individuals beyond superficial appearances.\\\\n* **Identity & Acceptance:** Sita\\'s struggle with her adoption and the mystery surrounding her birth point towards themes of identity, belonging, and acceptance.\\\\n* **Compassion & Empathy:** Sita\\'s act of kindness towards Jatayu emphasizes the importance of compassion and understanding in a society often blinded by prejudice.\\\\n\\\\n**Overall:**\\\\n\\\\nThe excerpt, while fragmented, sets the stage for a larger story exploring complex themes through engaging characters. The focus on Sita\\'s early life and the hints about her true origins suggest a build-up to her significant role in the future. \\\\n\"}}]'] , extra_info: {'cost': 0}"
      ]
     },
     "execution_count": 47,
     "metadata": {},
     "output_type": "execute_result"
    }
   ],
   "source": [
    "search_res"
   ]
  },
  {
   "cell_type": "code",
   "execution_count": 48,
   "metadata": {},
   "outputs": [],
   "source": [
    "import json"
   ]
  },
  {
   "cell_type": "code",
   "execution_count": 49,
   "metadata": {},
   "outputs": [
    {
     "name": "stdout",
     "output_type": "stream",
     "text": [
      "[\n",
      "    [\n",
      "        \"The provided text is an excerpt from a novel, likely focusing on the life of Sita, a prominent figure in Hindu mythology. While the specific novel is not named, we can glean several key pieces of information:\\n\\n**Characters and Relationships:**\\n\\n* **Sita:** The protagonist, a young girl at the start of the excerpt, dealing with the death of her mother, Sunaina. \\n* **Sunaina:** Sita's mother, recently deceased. She comes across as strong-willed, wise, and deeply caring for her daughters. \\n* **Janak:** Sita's father, the king of Mithila. He appears absorbed in his philosophical pursuits, even in the face of personal tragedy.\\n* **Urmila:** Sita's younger sister, four years old and sickly. \\n* **Kushadhwaj:**  Janak's younger brother, who dotes on Sita.\\n* **Samichi and Radhika:** Sita's friends, offering comfort and support during her grief.\\n\\n**Setting:**\\n\\n* The story unfolds in ancient India, primarily in and around Mithila, a kingdom ruled by Sita's father.\\n\\n**Plot Summary:**\\n\\nThe excerpt begins with a flashback, showcasing a younger Sita receiving a prized Arabian horse as a gift from her doting uncle, Kushadhwaj.  This scene establishes the close familial bonds and the lavish setting of Sita's upbringing. \\n\\nThe narrative shifts to a poignant scene where Sunaina, despite her frail health, takes Sita on an elephant ride into the jungle.  This journey becomes a metaphor for life's journey, with Sunaina imparting valuable lessons to her daughter. They witness the death of an elephant matriarch and the subsequent behavior of the herd, which Sunaina uses to illustrate the importance of moving forward despite loss and confronting challenges head-on.\\n\\nTragically, Sunaina's health deteriorates, and she passes away. The story then depicts Sita's grief and her struggle to come to terms with her mother's death.  The cremation ceremony serves as a turning point, with Sita vowing to fulfill her destiny and make her mother proud.\\n\\n**Themes:**\\n\\n* **Death and Loss:** The excerpt poignantly portrays the impact of Sunaina's death on Sita and those around her.\\n* **Mother-Daughter Bond:** The deep love and wisdom shared between Sunaina and Sita form a central theme.\\n* **Life Lessons:** Through the elephant herd and her own words, Sunaina imparts valuable lessons about resilience, courage, and acceptance.\\n* **Destiny and Duty:** The ending hints at a greater purpose awaiting Sita and the challenges she must face.\\n\\n**Overall Impression:**\\n\\nThe excerpt is beautifully written, evocative in its descriptions and emotionally resonant. It sets the stage for a captivating story exploring themes of love, loss, destiny, and the strength of a young woman facing a world of challenges. \\n\",\n",
      "        0.6961197853088379\n",
      "    ],\n",
      "    [\n",
      "        \"You've provided six different excerpts, all seemingly focused on Sita, but with different storylines and writing styles. It's difficult to provide a single detailed summary without knowing if these excerpts are from the same book or different interpretations of Sita's life. \\n\\n**Here's a breakdown of each excerpt and their individual summaries:**\\n\\n**Excerpt 1:** Focuses on Sunaina finding baby Sita and her upbringing in Mithila. \\n**Themes:** Motherhood, compassion, foreshadowing of future conflicts.\\n\\n**Excerpt 2:** Depicts Sita's first encounter with poverty and her mother's teachings about social responsibility.\\n**Themes:** Social inequality, compassion, justice, coming-of-age.\\n\\n**Excerpt 3:** Showcases Sita's skills in chariot racing, combat, and hunting.\\n**Themes:**  Courage, skill, compassion, female empowerment.\\n\\n**Excerpt 4:**  Centers on Sunaina's death and its impact on Sita, highlighting life lessons and the mother-daughter bond.\\n**Themes:** Death, loss, mother-daughter bond, resilience, destiny.\\n\\n**Excerpt 5:**  Focuses on Sunaina's declining health, potential political intrigue, and her guidance for Sita's future leadership.\\n**Themes:** Loss, responsibility, courage, sibling relationships.\\n\\n**Excerpt 6:** This section seems to be a general overview of recurring themes from the previous excerpts, emphasizing Sita's growth and the challenges she faces.\\n**Themes:**  Loss, leadership, political intrigue, personal growth.\\n\\n**Overall:**\\n\\nThese excerpts, when viewed together, suggest a multifaceted exploration of Sita's life beyond the traditional Ramayana narrative. They highlight her upbringing, her relationship with her family, her personal strengths, and the challenges she faces as a young woman in a position of power.\\n\\n**To help me understand better:**\\n\\n* **Are these excerpts from the same book?**\\n* **What is the title of the book(s)?**\\n* **Are you looking for a summary of a particular theme or aspect of Sita's life?**\\n\\nOnce I have more context, I can provide a more comprehensive and focused summary. \\n\",\n",
      "        0.6914818286895752\n",
      "    ],\n",
      "    [\n",
      "        \"The provided text appears to be an excerpt from a novel or story, likely a historical fiction piece centered around the character Sita from the Hindu epic Ramayana. \\n\\n**Setting & Characters:**\\n\\n* **Mithila:** The story takes place in the kingdom of Mithila, known for its intellectual atmosphere. \\n* **King Janak:** The king of Mithila, known for his wisdom and piety. He's shown as a character struggling with an internal conflict, possibly related to Sita's true origins.\\n* **Queen Sunaina:** Janak's wife, presented as a pragmatic and loving mother figure to Sita.\\n* **Sita:** The central character, around eight years old. The excerpt hints at a mystery surrounding her birth and adoption by Janak and Sunaina.\\n* **Rishi Ashtavakra:** A revered sage and Janak's chief guru, known for his wisdom despite physical deformities.\\n* **Vishwamitra:** Another important Rishi, visiting Mithila with his students, the Malayaputras. He appears observant and compassionate.\\n* **Shvetaketu:** Possibly a minister or advisor to Janak.\\n* **Jatayu:** A deformed man, ostracized for his appearance but recognized for his noble spirit by Vishwamitra.\\n* **Arishtanemi:** The chief of the Malayaputras, Vishwamitra's student.\\n\\n**Plot Summary:**\\n\\nThe excerpt doesn't follow a linear plot but offers glimpses into different situations and character interactions. \\n\\n* **Janak's Dilemma:** The story starts with Janak seeking guidance from Rishi Ashtavakra, suggesting an internal conflict. This is juxtaposed with young Sita's confusion about her own identity and whispers about her being adopted.\\n* **Sita's Compassion:** The narrative shifts to Vishwamitra and his students visiting Mithila. Sita, witnessing the ostracized Jatayu, displays remarkable empathy by serving him food despite his appearance, a gesture noticed by Vishwamitra.\\n\\n**Themes:**\\n\\n* **Appearance vs. Reality:** The contrast between Ashtavakra's physical deformities and his wisdom, as well as Jatayu's ostracized state despite his noble heart, highlights the theme of judging individuals beyond superficial appearances.\\n* **Identity & Acceptance:** Sita's struggle with her adoption and the mystery surrounding her birth point towards themes of identity, belonging, and acceptance.\\n* **Compassion & Empathy:** Sita's act of kindness towards Jatayu emphasizes the importance of compassion and understanding in a society often blinded by prejudice.\\n\\n**Overall:**\\n\\nThe excerpt, while fragmented, sets the stage for a larger story exploring complex themes through engaging characters. The focus on Sita's early life and the hints about her true origins suggest a build-up to her significant role in the future. \\n\",\n",
      "        0.6851560473442078\n",
      "    ]\n",
      "]\n"
     ]
    }
   ],
   "source": [
    "retrieved_lines_with_distances = [\n",
    "    (res[\"entity\"][\"text\"], res[\"distance\"]) for res in search_res[0]\n",
    "]\n",
    "print(json.dumps(retrieved_lines_with_distances, indent=4))"
   ]
  },
  {
   "cell_type": "code",
   "execution_count": 50,
   "metadata": {},
   "outputs": [],
   "source": [
    "context = \"\\n\".join(\n",
    "    [line_with_distance[0] for line_with_distance in retrieved_lines_with_distances]\n",
    ")"
   ]
  },
  {
   "cell_type": "code",
   "execution_count": 53,
   "metadata": {},
   "outputs": [
    {
     "data": {
      "text/plain": [
       "\"The provided text is an excerpt from a novel, likely focusing on the life of Sita, a prominent figure in Hindu mythology. While the specific novel is not named, we can glean several key pieces of information:\\n\\n**Characters and Relationships:**\\n\\n* **Sita:** The protagonist, a young girl at the start of the excerpt, dealing with the death of her mother, Sunaina. \\n* **Sunaina:** Sita's mother, recently deceased. She comes across as strong-willed, wise, and deeply caring for her daughters. \\n* **Janak:** Sita's father, the king of Mithila. He appears absorbed in his philosophical pursuits, even in the face of personal tragedy.\\n* **Urmila:** Sita's younger sister, four years old and sickly. \\n* **Kushadhwaj:**  Janak's younger brother, who dotes on Sita.\\n* **Samichi and Radhika:** Sita's friends, offering comfort and support during her grief.\\n\\n**Setting:**\\n\\n* The story unfolds in ancient India, primarily in and around Mithila, a kingdom ruled by Sita's father.\\n\\n**Plot Summary:**\\n\\nThe excerpt begins with a flashback, showcasing a younger Sita receiving a prized Arabian horse as a gift from her doting uncle, Kushadhwaj.  This scene establishes the close familial bonds and the lavish setting of Sita's upbringing. \\n\\nThe narrative shifts to a poignant scene where Sunaina, despite her frail health, takes Sita on an elephant ride into the jungle.  This journey becomes a metaphor for life's journey, with Sunaina imparting valuable lessons to her daughter. They witness the death of an elephant matriarch and the subsequent behavior of the herd, which Sunaina uses to illustrate the importance of moving forward despite loss and confronting challenges head-on.\\n\\nTragically, Sunaina's health deteriorates, and she passes away. The story then depicts Sita's grief and her struggle to come to terms with her mother's death.  The cremation ceremony serves as a turning point, with Sita vowing to fulfill her destiny and make her mother proud.\\n\\n**Themes:**\\n\\n* **Death and Loss:** The excerpt poignantly portrays the impact of Sunaina's death on Sita and those around her.\\n* **Mother-Daughter Bond:** The deep love and wisdom shared between Sunaina and Sita form a central theme.\\n* **Life Lessons:** Through the elephant herd and her own words, Sunaina imparts valuable lessons about resilience, courage, and acceptance.\\n* **Destiny and Duty:** The ending hints at a greater purpose awaiting Sita and the challenges she must face.\\n\\n**Overall Impression:**\\n\\nThe excerpt is beautifully written, evocative in its descriptions and emotionally resonant. It sets the stage for a captivating story exploring themes of love, loss, destiny, and the strength of a young woman facing a world of challenges. \\n\\nYou've provided six different excerpts, all seemingly focused on Sita, but with different storylines and writing styles. It's difficult to provide a single detailed summary without knowing if these excerpts are from the same book or different interpretations of Sita's life. \\n\\n**Here's a breakdown of each excerpt and their individual summaries:**\\n\\n**Excerpt 1:** Focuses on Sunaina finding baby Sita and her upbringing in Mithila. \\n**Themes:** Motherhood, compassion, foreshadowing of future conflicts.\\n\\n**Excerpt 2:** Depicts Sita's first encounter with poverty and her mother's teachings about social responsibility.\\n**Themes:** Social inequality, compassion, justice, coming-of-age.\\n\\n**Excerpt 3:** Showcases Sita's skills in chariot racing, combat, and hunting.\\n**Themes:**  Courage, skill, compassion, female empowerment.\\n\\n**Excerpt 4:**  Centers on Sunaina's death and its impact on Sita, highlighting life lessons and the mother-daughter bond.\\n**Themes:** Death, loss, mother-daughter bond, resilience, destiny.\\n\\n**Excerpt 5:**  Focuses on Sunaina's declining health, potential political intrigue, and her guidance for Sita's future leadership.\\n**Themes:** Loss, responsibility, courage, sibling relationships.\\n\\n**Excerpt 6:** This section seems to be a general overview of recurring themes from the previous excerpts, emphasizing Sita's growth and the challenges she faces.\\n**Themes:**  Loss, leadership, political intrigue, personal growth.\\n\\n**Overall:**\\n\\nThese excerpts, when viewed together, suggest a multifaceted exploration of Sita's life beyond the traditional Ramayana narrative. They highlight her upbringing, her relationship with her family, her personal strengths, and the challenges she faces as a young woman in a position of power.\\n\\n**To help me understand better:**\\n\\n* **Are these excerpts from the same book?**\\n* **What is the title of the book(s)?**\\n* **Are you looking for a summary of a particular theme or aspect of Sita's life?**\\n\\nOnce I have more context, I can provide a more comprehensive and focused summary. \\n\\nThe provided text appears to be an excerpt from a novel or story, likely a historical fiction piece centered around the character Sita from the Hindu epic Ramayana. \\n\\n**Setting & Characters:**\\n\\n* **Mithila:** The story takes place in the kingdom of Mithila, known for its intellectual atmosphere. \\n* **King Janak:** The king of Mithila, known for his wisdom and piety. He's shown as a character struggling with an internal conflict, possibly related to Sita's true origins.\\n* **Queen Sunaina:** Janak's wife, presented as a pragmatic and loving mother figure to Sita.\\n* **Sita:** The central character, around eight years old. The excerpt hints at a mystery surrounding her birth and adoption by Janak and Sunaina.\\n* **Rishi Ashtavakra:** A revered sage and Janak's chief guru, known for his wisdom despite physical deformities.\\n* **Vishwamitra:** Another important Rishi, visiting Mithila with his students, the Malayaputras. He appears observant and compassionate.\\n* **Shvetaketu:** Possibly a minister or advisor to Janak.\\n* **Jatayu:** A deformed man, ostracized for his appearance but recognized for his noble spirit by Vishwamitra.\\n* **Arishtanemi:** The chief of the Malayaputras, Vishwamitra's student.\\n\\n**Plot Summary:**\\n\\nThe excerpt doesn't follow a linear plot but offers glimpses into different situations and character interactions. \\n\\n* **Janak's Dilemma:** The story starts with Janak seeking guidance from Rishi Ashtavakra, suggesting an internal conflict. This is juxtaposed with young Sita's confusion about her own identity and whispers about her being adopted.\\n* **Sita's Compassion:** The narrative shifts to Vishwamitra and his students visiting Mithila. Sita, witnessing the ostracized Jatayu, displays remarkable empathy by serving him food despite his appearance, a gesture noticed by Vishwamitra.\\n\\n**Themes:**\\n\\n* **Appearance vs. Reality:** The contrast between Ashtavakra's physical deformities and his wisdom, as well as Jatayu's ostracized state despite his noble heart, highlights the theme of judging individuals beyond superficial appearances.\\n* **Identity & Acceptance:** Sita's struggle with her adoption and the mystery surrounding her birth point towards themes of identity, belonging, and acceptance.\\n* **Compassion & Empathy:** Sita's act of kindness towards Jatayu emphasizes the importance of compassion and understanding in a society often blinded by prejudice.\\n\\n**Overall:**\\n\\nThe excerpt, while fragmented, sets the stage for a larger story exploring complex themes through engaging characters. The focus on Sita's early life and the hints about her true origins suggest a build-up to her significant role in the future. \\n\""
      ]
     },
     "execution_count": 53,
     "metadata": {},
     "output_type": "execute_result"
    }
   ],
   "source": [
    "context"
   ]
  },
  {
   "cell_type": "code",
   "execution_count": 56,
   "metadata": {},
   "outputs": [
    {
     "name": "stdout",
     "output_type": "stream",
     "text": [
      "Sita is the protagonist of the novel excerpt. She is a young girl who is dealing with the death of her mother, Sunaina, and has a mysterious past surrounding her birth and adoption. \n",
      "\n"
     ]
    }
   ],
   "source": [
    "from langchain import hub\n",
    "from langchain_core.runnables import RunnablePassthrough\n",
    "from langchain_core.output_parsers import StrOutputParser\n",
    "\n",
    "# Pull the prompt from LangChain Hub\n",
    "prompt = hub.pull(\"rlm/rag-prompt\")\n",
    "\n",
    "# Post-processing function\n",
    "def format_docs(context):\n",
    "    return context\n",
    "\n",
    "# Initialize the language model\n",
    "llm = ChatGoogleGenerativeAI(model=\"gemini-1.5-flash-001\")\n",
    "\n",
    "# Chain definition\n",
    "rag_chain = (\n",
    "    {\"context\": RunnablePassthrough() | format_docs, \"question\": RunnablePassthrough()}\n",
    "    | prompt\n",
    "    | llm\n",
    "    | StrOutputParser()\n",
    ")\n",
    "\n",
    "question = \"Who is sita?\"\n",
    "\n",
    "# Invoke the chain with the context and question\n",
    "response = rag_chain.invoke({\"context\": context, \"question\": question})\n",
    "\n",
    "# Print the response\n",
    "print(response)"
   ]
  }
 ],
 "metadata": {
  "kernelspec": {
   "display_name": "raptor",
   "language": "python",
   "name": "python3"
  },
  "language_info": {
   "codemirror_mode": {
    "name": "ipython",
    "version": 3
   },
   "file_extension": ".py",
   "mimetype": "text/x-python",
   "name": "python",
   "nbconvert_exporter": "python",
   "pygments_lexer": "ipython3",
   "version": "3.12.2"
  }
 },
 "nbformat": 4,
 "nbformat_minor": 2
}
