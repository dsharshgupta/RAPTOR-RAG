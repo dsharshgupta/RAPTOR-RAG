{
 "cells": [
  {
   "cell_type": "code",
   "execution_count": 1,
   "metadata": {},
   "outputs": [
    {
     "name": "stderr",
     "output_type": "stream",
     "text": [
      "c:\\Users\\dshar\\OneDrive\\Pictures\\Desktop\\RAPTOR-RAG\\raptor\\Lib\\site-packages\\tqdm\\auto.py:21: TqdmWarning: IProgress not found. Please update jupyter and ipywidgets. See https://ipywidgets.readthedocs.io/en/stable/user_install.html\n",
      "  from .autonotebook import tqdm as notebook_tqdm\n"
     ]
    }
   ],
   "source": [
    "from langchain_google_genai import ChatGoogleGenerativeAI,GoogleGenerativeAIEmbeddings\n",
    "import joblib"
   ]
  },
  {
   "cell_type": "code",
   "execution_count": 2,
   "metadata": {},
   "outputs": [],
   "source": [
    "import joblib\n",
    "results = joblib.load('ram.joblib')\n",
    "docs_texts = joblib.load('ram_docs.joblib')"
   ]
  },
  {
   "cell_type": "code",
   "execution_count": 3,
   "metadata": {},
   "outputs": [],
   "source": [
    "# # Initialize all_texts with leaf_texts\n",
    "leaf_texts = docs_texts\n",
    "all_texts = leaf_texts.copy()\n",
    "\n",
    "# Iterate through the results to extract summaries from each level and add them to all_texts\n",
    "for level in sorted(results.keys()):\n",
    "    # Extract summaries from the current level's DataFrame\n",
    "    summaries = results[level][1][\"summaries\"].tolist()\n",
    "    # Extend all_texts with the summaries from the current level\n",
    "    all_texts.extend(summaries)"
   ]
  },
  {
   "cell_type": "code",
   "execution_count": 8,
   "metadata": {},
   "outputs": [],
   "source": [
    "from pymilvus import MilvusClient\n",
    "\n",
    "milvus_client = MilvusClient(host='172.19.14.186',port=19530)\n",
    "\n",
    "collection_name = \"ram1\""
   ]
  },
  {
   "cell_type": "code",
   "execution_count": 9,
   "metadata": {},
   "outputs": [],
   "source": [
    "milvus_client.create_collection(\n",
    "    collection_name=collection_name,\n",
    "    dimension=768,\n",
    "    metric_type=\"COSINE\",  # Inner product distance\n",
    "    consistency_level=\"Strong\",  # Strong consistency level\n",
    ")"
   ]
  },
  {
   "cell_type": "code",
   "execution_count": 10,
   "metadata": {},
   "outputs": [],
   "source": [
    "embedings = GoogleGenerativeAIEmbeddings(model=\"models/text-embedding-004\").embed_documents(all_texts)"
   ]
  },
  {
   "cell_type": "code",
   "execution_count": 11,
   "metadata": {},
   "outputs": [
    {
     "name": "stderr",
     "output_type": "stream",
     "text": [
      "Creating embeddings: 100%|██████████| 357/357 [00:00<00:00, 224526.39it/s]\n"
     ]
    },
    {
     "data": {
      "text/plain": [
       "{'insert_count': 357,\n",
       " 'ids': [0, 1, 2, 3, 4, 5, 6, 7, 8, 9, 10, 11, 12, 13, 14, 15, 16, 17, 18, 19, 20, 21, 22, 23, 24, 25, 26, 27, 28, 29, 30, 31, 32, 33, 34, 35, 36, 37, 38, 39, 40, 41, 42, 43, 44, 45, 46, 47, 48, 49, 50, 51, 52, 53, 54, 55, 56, 57, 58, 59, 60, 61, 62, 63, 64, 65, 66, 67, 68, 69, 70, 71, 72, 73, 74, 75, 76, 77, 78, 79, 80, 81, 82, 83, 84, 85, 86, 87, 88, 89, 90, 91, 92, 93, 94, 95, 96, 97, 98, 99, 100, 101, 102, 103, 104, 105, 106, 107, 108, 109, 110, 111, 112, 113, 114, 115, 116, 117, 118, 119, 120, 121, 122, 123, 124, 125, 126, 127, 128, 129, 130, 131, 132, 133, 134, 135, 136, 137, 138, 139, 140, 141, 142, 143, 144, 145, 146, 147, 148, 149, 150, 151, 152, 153, 154, 155, 156, 157, 158, 159, 160, 161, 162, 163, 164, 165, 166, 167, 168, 169, 170, 171, 172, 173, 174, 175, 176, 177, 178, 179, 180, 181, 182, 183, 184, 185, 186, 187, 188, 189, 190, 191, 192, 193, 194, 195, 196, 197, 198, 199, 200, 201, 202, 203, 204, 205, 206, 207, 208, 209, 210, 211, 212, 213, 214, 215, 216, 217, 218, 219, 220, 221, 222, 223, 224, 225, 226, 227, 228, 229, 230, 231, 232, 233, 234, 235, 236, 237, 238, 239, 240, 241, 242, 243, 244, 245, 246, 247, 248, 249, 250, 251, 252, 253, 254, 255, 256, 257, 258, 259, 260, 261, 262, 263, 264, 265, 266, 267, 268, 269, 270, 271, 272, 273, 274, 275, 276, 277, 278, 279, 280, 281, 282, 283, 284, 285, 286, 287, 288, 289, 290, 291, 292, 293, 294, 295, 296, 297, 298, 299, 300, 301, 302, 303, 304, 305, 306, 307, 308, 309, 310, 311, 312, 313, 314, 315, 316, 317, 318, 319, 320, 321, 322, 323, 324, 325, 326, 327, 328, 329, 330, 331, 332, 333, 334, 335, 336, 337, 338, 339, 340, 341, 342, 343, 344, 345, 346, 347, 348, 349, 350, 351, 352, 353, 354, 355, 356],\n",
       " 'cost': 0}"
      ]
     },
     "execution_count": 11,
     "metadata": {},
     "output_type": "execute_result"
    }
   ],
   "source": [
    "from tqdm import tqdm\n",
    "\n",
    "data = []\n",
    "\n",
    "for i, line in enumerate(tqdm(all_texts, desc=\"Creating embeddings\")):\n",
    "    data.append({\"id\": i, \"vector\": embedings[i], \"text\": line})\n",
    "\n",
    "milvus_client.insert(collection_name=collection_name, data=data)"
   ]
  },
  {
   "cell_type": "code",
   "execution_count": 10,
   "metadata": {},
   "outputs": [],
   "source": [
    "question = \"Who is sita?\""
   ]
  },
  {
   "cell_type": "code",
   "execution_count": 11,
   "metadata": {},
   "outputs": [],
   "source": [
    "search_res = milvus_client.search(\n",
    "    collection_name=collection_name,\n",
    "    data=[\n",
    "        GoogleGenerativeAIEmbeddings(model=\"models/text-embedding-004\").embed_query(question)\n",
    "    ],  # Use the `emb_text` function to convert the question to an embedding vector\n",
    "    limit=3,  # Return top 3 results\n",
    "    search_params={\"metric_type\": \"IP\", \"params\": {}},  # Inner product distance\n",
    "    output_fields=[\"text\"],  # Return the text field\n",
    ")"
   ]
  },
  {
   "cell_type": "code",
   "execution_count": 12,
   "metadata": {},
   "outputs": [
    {
     "data": {
      "text/plain": [
       "data: ['[{\\'id\\': 278, \\'distance\\': 0.6976392269134521, \\'entity\\': {\\'text\\': \\'The text you provided is an excerpt from a fictional novel, likely a reimagining of the Ramayana. It details a dramatic battle scene where Sita, wife of Rama, finds herself defending against Lankan soldiers who are searching for her. \\\\n\\\\nHere\\\\\\'s a breakdown of the scene:\\\\n\\\\n* **Setting:** The scene takes place in a temporary camp, likely in the forest, showing signs of a fierce struggle. \\\\n* **Characters:**\\\\n    * **Sita:** The protagonist of the scene, portrayed as a strong and resourceful warrior skilled in archery and knife throwing. She is deeply loyal to her husband, Rama, and her people.\\\\n    * **Jatayu:** A brave Malayaputra captain and a father figure to Sita, described as a \"Naga\" with a vulture-like face due to a deformity. He is captured and brutally tortured by the Lankans.\\\\n    * **Khara:** The main antagonist, a cruel Lankan captain leading the search for Sita. He enjoys inflicting pain and uses Jatayu\\\\\\'s life as leverage. \\\\n    * **Kumbhakarna:** Raavan\\\\\\'s brother, present at the scene but not directly involved in the confrontation with Sita.\\\\n    * **Raavan:** Briefly mentioned as observing the interrogation, highlighting his role as the mastermind behind the events.\\\\n    * **Lankan Soldiers:** Numerous, some skilled warriors, others easily dispatched by Sita.\\\\n    * **Malayaputra Soldiers:** All dead except for Jatayu and two others who are captured and later killed.\\\\n* **Plot:**\\\\n    1. **Sita\\\\\\'s Arrival:** Sita stealthily approaches the camp after killing two Lankan soldiers, witnessing the aftermath of the battle and Jatayu’s capture.\\\\n    2. **Jatayu\\\\\\'s Interrogation:** The Lankans, aware of Sita\\\\\\'s identity as the \"Vishnu,\" torture Jatayu to reveal her location. \\\\n    3. **Sita\\\\\\'s Intervention:** Unable to watch Jatayu suffer, Sita reveals herself, using her archery skills to kill a soldier and wound Khara.\\\\n    4. **Khara\\\\\\'s Offer:** Khara, recognizing Sita, offers a deal: her surrender in exchange for the lives of Jatayu and the remaining Malayaputras.\\\\n    5. **Jatayu\\\\\\'s Defiance:** Jatayu urges Sita to flee, valuing her life over his own. \\\\n    6. **Khara\\\\\\'s Cruelty:** Enraged, Khara fatally wounds Jatayu.\\\\n    7. **Sita\\\\\\'s Fury:** Grief-stricken, Sita kills Khara with an arrow to the eye.\\\\n    8. **Unequal Fight:** Outnumbered but undeterred, Sita fights back with her bow and then a stolen *lathi*, holding off the Lankan soldiers.\\\\n    9. **Standoff:**  Sita, exhausted but defiant, stands surrounded, calling out for Rama while the Lankans try to convince her to surrender peacefully.\\\\n\\\\n**Themes:**\\\\n\\\\n* **Duty and Loyalty:** Sita’s fierce loyalty to Jatayu and her people is evident in her actions.\\\\n* **Courage and Strength:**  Sita exhibits immense courage and fighting prowess, facing overwhelming odds to protect her loved ones.\\\\n* **Cruelty and Violence:** The excerpt doesn\\\\\\'t shy away from depicting the brutality of war and the Lankans\\\\\\' cruelty. \\\\n\\\\n**Overall:** The passage is a gripping action sequence that highlights Sita\\\\\\'s strength, resilience, and compassion. It leaves the reader on a cliffhanger, wondering if Rama will hear her cries and come to her rescue. \\\\n\\'}}, {\\'id\\': 282, \\'distance\\': 0.6960711479187012, \\'entity\\': {\\'text\\': \"The provided text is an excerpt from a fictional novel, likely a retelling of the Ramayana from Sita\\'s perspective. \\\\n\\\\nThe excerpt focuses on Sita\\'s early life in Mithila, where she is raised by King Janak and Queen Sunaina after being found in a furrow. \\\\n\\\\n**Here\\'s a breakdown of the key points:**\\\\n\\\\n* **Sita\\'s Arrival:** The excerpt begins with Sita\\'s arrival in Mithila. Found as a baby, she is lovingly adopted by the childless King Janak and Queen Sunaina. They name her Sita, signifying her connection to the earth.\\\\n* **Political Turmoil:** News arrives of Emperor Dashrath\\'s defeat at the hands of Raavan, a powerful ruler from Lanka. This defeat throws the Sapt Sindhu (the region encompassing seven rivers, including the Indus) into turmoil.  People blame the newborn Ram, Dashrath’s son, for the misfortune.\\\\n* **Sunaina\\'s Concerns:** Queen Sunaina, a pragmatic and capable ruler, worries about the safety and stability of Mithila in the wake of Raavan\\'s victory and the potential for increased lawlessness.\\\\n* **Janak\\'s Philosophical Approach:** King Janak, immersed in philosophical pursuits, reacts with more detachment. He emphasizes acceptance of fate and learning from experiences.\\\\n* **Life in Mithila:** Despite the external unrest, life in Mithila remains relatively peaceful. Sunaina implements administrative reforms, strengthens the local police force, and ensures the well-being of her people.\\\\n* **Sita\\'s Birthday Celebration:** Sita\\'s birthday is celebrated with great fanfare. The occasion is marked by acts of charity and a visit to the grand temple of Lord Rudra.\\\\n* **Sita\\'s Compassion:** The excerpt highlights Sita\\'s compassionate nature. She mourns the death of a vulture that saved her life and expresses concern for the poor living in the slums near the temple. \\\\n* **Ashtaavakra\\'s Arrival:** The excerpt ends with the arrival of Ashtaavakra, a revered sage and Janak\\'s chief guru (teacher), hinting at the philosophical education Sita might receive.\\\\n\\\\n**Overall, the excerpt sets the stage for Sita\\'s upbringing in a kingdom known for its wisdom and peace, even as a powerful enemy threatens the larger region.** The contrasting personalities of her adoptive parents, one a practical ruler and the other a philosopher king, suggest the balanced upbringing Sita might receive. This excerpt also foreshadows the significant role fate and destiny will play in Sita\\'s life. \\\\n\"}}, {\\'id\\': 38, \\'distance\\': 0.689289391040802, \\'entity\\': {\\'text\\': \\'She\\\\thadn’t\\\\treally\\\\tunderstood\\\\tthe\\\\twords\\\\tthen.\\\\tShe\\\\tdid\\\\tnow.\\\\nSita\\\\tturned\\\\taround.\\\\tShe’d\\\\tseen\\\\tenough\\\\tof\\\\tthe\\\\tslums\\\\tfor\\\\ther\\\\tfirst\\\\ttrip.\\\\tShe\\\\npromised\\\\therself\\\\tthat\\\\tshe\\\\twould\\\\treturn\\\\tsoon.\\\\tTime\\\\tto\\\\tgo\\\\tback\\\\tto\\\\tthe\\\\tpalace.\\\\nThere\\\\twere\\\\tfour\\\\ttiny\\\\tlanes\\\\tahead.\\\\t\\\\nWhich\\\\tone\\\\tdo\\\\tI\\\\ttake?\\\\nUncertain,\\\\tshe\\\\ttook\\\\tthe\\\\tleft-most\\\\tone\\\\tand\\\\tbegan\\\\tto\\\\twalk.\\\\tShe\\\\tkept\\\\tmoving.\\\\nBut\\\\tthe\\\\tslum\\\\tborder\\\\twas\\\\tnowhere\\\\tin\\\\tsight.\\\\tHer\\\\theartbeat\\\\tquickened\\\\tas\\\\tshe\\\\nnervously\\\\thastened\\\\ther\\\\tpace.\\\\nThe\\\\tlight\\\\thad\\\\tbegun\\\\tto\\\\tfade.\\\\tEvery\\\\tchaotic\\\\tlane\\\\tseemed\\\\tto\\\\tend\\\\tat\\\\ta\\\\tcrossroads\\\\nof\\\\tseveral\\\\tother\\\\tpaths.\\\\tAll\\\\thaphazard,\\\\tall\\\\tdisorganised.\\\\tConfused,\\\\tshe\\\\tblindly\\\\nturned\\\\tinto\\\\ta\\\\tquiet\\\\tlane.\\\\tBeginning\\\\tto\\\\tfeel\\\\tthe\\\\tfirst\\\\ttraces\\\\tof\\\\tpanic,\\\\tshe\\\\tquickened\\\\nher\\\\tsteps.\\\\tBut\\\\tit\\\\tonly\\\\ttook\\\\ther\\\\tthe\\\\twrong\\\\tway,\\\\tfaster.\\\\n‘Sorry!’\\\\tcried\\\\tSita,\\\\tas\\\\tshe\\\\tbanged\\\\tinto\\\\tsomeone.\\\\nThe\\\\tdark-skinned\\\\tgirl\\\\tlooked\\\\tlike\\\\tan\\\\tadolescent;\\\\tperhaps\\\\tolder.\\\\tShe\\\\thad\\\\ta\\\\ndirty,\\\\tunkempt\\\\tlook\\\\tabout\\\\ther.\\\\tThe\\\\tstench\\\\tfrom\\\\ther\\\\ttattered\\\\tclothes\\\\tsuggested\\\\nthat\\\\tshe\\\\thad\\\\tnot\\\\tchanged\\\\tthem\\\\tfor\\\\ta\\\\twhile.\\\\tLice\\\\tcrawled\\\\tover\\\\tthe\\\\tsurface\\\\tof\\\\ther\\\\nmatted,\\\\tunwashed\\\\thair.\\\\tShe\\\\twas\\\\ttall,\\\\tlean,\\\\tand\\\\tsurprisingly\\\\tmuscular.\\\\tHer\\\\tfeline\\\\neyes\\\\tand\\\\tscarred\\\\tbody\\\\tgave\\\\ther\\\\ta\\\\tdangerous,\\\\tedgy\\\\tlook.\\\\nShe\\\\tstared\\\\tat\\\\tSita’s\\\\tface\\\\tand\\\\tthen\\\\tat\\\\ther\\\\thands.\\\\tThere\\\\twas\\\\ta\\\\tsudden\\\\tflash\\\\tof\\\\nrecognition\\\\tin\\\\ther\\\\teyes,\\\\tas\\\\tthough\\\\tsensing\\\\tan\\\\topportunity.\\\\tSita,\\\\tmeanwhile,\\\\thad\\\\ndarted\\\\tinto\\\\tan\\\\tadjacent\\\\tlane.\\\\tThe\\\\tPrincess\\\\tof\\\\tMithila\\\\tpicked\\\\tup\\\\tpace,\\\\talmost\\\\nbreaking\\\\tinto\\\\ta\\\\tdesperate\\\\trun.\\\\tPraying\\\\tthat\\\\tthis\\\\twas\\\\tthe\\\\tcorrect\\\\tpath\\\\tout\\\\tof\\\\tthe\\\\nslum.\\\\nSweat\\\\tbeads\\\\twere\\\\tbreaking\\\\tout\\\\ton\\\\ther\\\\tforehead.\\\\tShe\\\\ttried\\\\tto\\\\tsteady\\\\ther\\\\tbreath.\\\\nShe\\\\tcouldn’t.\\\\nShe\\\\tkept\\\\trunning.\\\\tTill\\\\tshe\\\\twas\\\\tforced\\\\tto\\\\tstop.\\\\n‘Lord\\\\tRudra\\\\tbe\\\\tmerciful.’\\\\nShe\\\\thad\\\\tscreeched\\\\tto\\\\ta\\\\thalt,\\\\tconfronted\\\\tby\\\\ta\\\\tsolid\\\\tbarrier\\\\t\\\\nwall.\\\\tShe\\\\twas\\\\tnow\\\\nwell\\\\tand\\\\ttruly\\\\tlost,\\\\tfinding\\\\therself\\\\tat\\\\tthe\\\\tother\\\\tend\\\\tof\\\\tthe\\\\tslum\\\\twhich\\\\tabutted\\\\tthe\\\\ninner\\\\tfort\\\\twall.\\\\tThe\\\\tinner\\\\tcity\\\\tof\\\\tMithila\\\\twas\\\\tas\\\\tfar\\\\tas\\\\tit\\\\tcould\\\\tbe.\\\\tIt\\\\twas\\\\teerily\\\\nquiet,\\\\twith\\\\tscarcely\\\\tanyone\\\\taround.\\\\tThe\\\\tsun\\\\thad\\\\talmost\\\\tset,\\\\tand\\\\tthe\\\\tfaint\\\\nsnatches\\\\tof\\\\ttwilight\\\\tonly\\\\temphasised\\\\tthe\\\\tdarkness.\\\\tShe\\\\tdid\\\\tnot\\\\tknow\\\\twhat\\\\tto\\\\tdo.\\\\n‘Who\\\\tis\\\\tthis\\\\tnow?’\\\\tA\\\\tvoice\\\\twas\\\\theard\\\\tfrom\\\\tbehind\\\\ther.\\\\nSita\\\\twhirled\\\\taround,\\\\tready\\\\tto\\\\tstrike.\\\\tShe\\\\tsaw\\\\ttwo\\\\tadolescent\\\\tboys\\\\tmoving\\\\ntowards\\\\ther\\\\tfrom\\\\tthe\\\\tright.\\\\tShe\\\\tturned\\\\tleft.\\\\tAnd\\\\tran.\\\\tBut\\\\tdid\\\\tnot\\\\tget\\\\tfar.\\\\tA\\\\tleg\\\\nstuck\\\\tout\\\\tand\\\\ttripped\\\\ther,\\\\tmaking\\\\ther\\\\tfall\\\\tflat\\\\ton\\\\ther\\\\tface.\\\\tInto\\\\tthe\\\\tmuck.\\\\tThere\\\\nwere\\\\tmore\\\\tof\\\\tthem.\\\\tShe\\\\tgot\\\\tup\\\\tquickly\\\\tand\\\\tgrabbed\\\\ther\\\\tstick.\\\\tFive\\\\tboys\\\\thad\\\\ngathered\\\\taround\\\\ther.\\\\tCasual\\\\tmenace\\\\ton\\\\ttheir\\\\tfaces.\\\\nHer\\\\tmother\\\\thad\\\\twarned\\\\ther\\\\tabout\\\\tthe\\\\tcrimes\\\\tin\\\\tthe\\\\tslums.\\\\tOf\\\\tpeople\\\\tgetting\\\\nbeaten\\\\tup.\\\\tBut\\\\tSita\\\\thad\\\\tnot\\\\tbelieved\\\\tthose\\\\tstories,\\\\tthinking\\\\tthat\\\\tthe\\\\tsweet\\\\tpeople\\'}}]'] , extra_info: {'cost': 0}"
      ]
     },
     "execution_count": 12,
     "metadata": {},
     "output_type": "execute_result"
    }
   ],
   "source": [
    "search_res"
   ]
  },
  {
   "cell_type": "code",
   "execution_count": 13,
   "metadata": {},
   "outputs": [],
   "source": [
    "import json"
   ]
  },
  {
   "cell_type": "code",
   "execution_count": 14,
   "metadata": {},
   "outputs": [
    {
     "name": "stdout",
     "output_type": "stream",
     "text": [
      "[\n",
      "    [\n",
      "        \"The text you provided is an excerpt from a fictional novel, likely a reimagining of the Ramayana. It details a dramatic battle scene where Sita, wife of Rama, finds herself defending against Lankan soldiers who are searching for her. \\n\\nHere's a breakdown of the scene:\\n\\n* **Setting:** The scene takes place in a temporary camp, likely in the forest, showing signs of a fierce struggle. \\n* **Characters:**\\n    * **Sita:** The protagonist of the scene, portrayed as a strong and resourceful warrior skilled in archery and knife throwing. She is deeply loyal to her husband, Rama, and her people.\\n    * **Jatayu:** A brave Malayaputra captain and a father figure to Sita, described as a \\\"Naga\\\" with a vulture-like face due to a deformity. He is captured and brutally tortured by the Lankans.\\n    * **Khara:** The main antagonist, a cruel Lankan captain leading the search for Sita. He enjoys inflicting pain and uses Jatayu's life as leverage. \\n    * **Kumbhakarna:** Raavan's brother, present at the scene but not directly involved in the confrontation with Sita.\\n    * **Raavan:** Briefly mentioned as observing the interrogation, highlighting his role as the mastermind behind the events.\\n    * **Lankan Soldiers:** Numerous, some skilled warriors, others easily dispatched by Sita.\\n    * **Malayaputra Soldiers:** All dead except for Jatayu and two others who are captured and later killed.\\n* **Plot:**\\n    1. **Sita's Arrival:** Sita stealthily approaches the camp after killing two Lankan soldiers, witnessing the aftermath of the battle and Jatayu\\u2019s capture.\\n    2. **Jatayu's Interrogation:** The Lankans, aware of Sita's identity as the \\\"Vishnu,\\\" torture Jatayu to reveal her location. \\n    3. **Sita's Intervention:** Unable to watch Jatayu suffer, Sita reveals herself, using her archery skills to kill a soldier and wound Khara.\\n    4. **Khara's Offer:** Khara, recognizing Sita, offers a deal: her surrender in exchange for the lives of Jatayu and the remaining Malayaputras.\\n    5. **Jatayu's Defiance:** Jatayu urges Sita to flee, valuing her life over his own. \\n    6. **Khara's Cruelty:** Enraged, Khara fatally wounds Jatayu.\\n    7. **Sita's Fury:** Grief-stricken, Sita kills Khara with an arrow to the eye.\\n    8. **Unequal Fight:** Outnumbered but undeterred, Sita fights back with her bow and then a stolen *lathi*, holding off the Lankan soldiers.\\n    9. **Standoff:**  Sita, exhausted but defiant, stands surrounded, calling out for Rama while the Lankans try to convince her to surrender peacefully.\\n\\n**Themes:**\\n\\n* **Duty and Loyalty:** Sita\\u2019s fierce loyalty to Jatayu and her people is evident in her actions.\\n* **Courage and Strength:**  Sita exhibits immense courage and fighting prowess, facing overwhelming odds to protect her loved ones.\\n* **Cruelty and Violence:** The excerpt doesn't shy away from depicting the brutality of war and the Lankans' cruelty. \\n\\n**Overall:** The passage is a gripping action sequence that highlights Sita's strength, resilience, and compassion. It leaves the reader on a cliffhanger, wondering if Rama will hear her cries and come to her rescue. \\n\",\n",
      "        0.6976392269134521\n",
      "    ],\n",
      "    [\n",
      "        \"The provided text is an excerpt from a fictional novel, likely a retelling of the Ramayana from Sita's perspective. \\n\\nThe excerpt focuses on Sita's early life in Mithila, where she is raised by King Janak and Queen Sunaina after being found in a furrow. \\n\\n**Here's a breakdown of the key points:**\\n\\n* **Sita's Arrival:** The excerpt begins with Sita's arrival in Mithila. Found as a baby, she is lovingly adopted by the childless King Janak and Queen Sunaina. They name her Sita, signifying her connection to the earth.\\n* **Political Turmoil:** News arrives of Emperor Dashrath's defeat at the hands of Raavan, a powerful ruler from Lanka. This defeat throws the Sapt Sindhu (the region encompassing seven rivers, including the Indus) into turmoil.  People blame the newborn Ram, Dashrath\\u2019s son, for the misfortune.\\n* **Sunaina's Concerns:** Queen Sunaina, a pragmatic and capable ruler, worries about the safety and stability of Mithila in the wake of Raavan's victory and the potential for increased lawlessness.\\n* **Janak's Philosophical Approach:** King Janak, immersed in philosophical pursuits, reacts with more detachment. He emphasizes acceptance of fate and learning from experiences.\\n* **Life in Mithila:** Despite the external unrest, life in Mithila remains relatively peaceful. Sunaina implements administrative reforms, strengthens the local police force, and ensures the well-being of her people.\\n* **Sita's Birthday Celebration:** Sita's birthday is celebrated with great fanfare. The occasion is marked by acts of charity and a visit to the grand temple of Lord Rudra.\\n* **Sita's Compassion:** The excerpt highlights Sita's compassionate nature. She mourns the death of a vulture that saved her life and expresses concern for the poor living in the slums near the temple. \\n* **Ashtaavakra's Arrival:** The excerpt ends with the arrival of Ashtaavakra, a revered sage and Janak's chief guru (teacher), hinting at the philosophical education Sita might receive.\\n\\n**Overall, the excerpt sets the stage for Sita's upbringing in a kingdom known for its wisdom and peace, even as a powerful enemy threatens the larger region.** The contrasting personalities of her adoptive parents, one a practical ruler and the other a philosopher king, suggest the balanced upbringing Sita might receive. This excerpt also foreshadows the significant role fate and destiny will play in Sita's life. \\n\",\n",
      "        0.6960711479187012\n",
      "    ],\n",
      "    [\n",
      "        \"She\\thadn\\u2019t\\treally\\tunderstood\\tthe\\twords\\tthen.\\tShe\\tdid\\tnow.\\nSita\\tturned\\taround.\\tShe\\u2019d\\tseen\\tenough\\tof\\tthe\\tslums\\tfor\\ther\\tfirst\\ttrip.\\tShe\\npromised\\therself\\tthat\\tshe\\twould\\treturn\\tsoon.\\tTime\\tto\\tgo\\tback\\tto\\tthe\\tpalace.\\nThere\\twere\\tfour\\ttiny\\tlanes\\tahead.\\t\\nWhich\\tone\\tdo\\tI\\ttake?\\nUncertain,\\tshe\\ttook\\tthe\\tleft-most\\tone\\tand\\tbegan\\tto\\twalk.\\tShe\\tkept\\tmoving.\\nBut\\tthe\\tslum\\tborder\\twas\\tnowhere\\tin\\tsight.\\tHer\\theartbeat\\tquickened\\tas\\tshe\\nnervously\\thastened\\ther\\tpace.\\nThe\\tlight\\thad\\tbegun\\tto\\tfade.\\tEvery\\tchaotic\\tlane\\tseemed\\tto\\tend\\tat\\ta\\tcrossroads\\nof\\tseveral\\tother\\tpaths.\\tAll\\thaphazard,\\tall\\tdisorganised.\\tConfused,\\tshe\\tblindly\\nturned\\tinto\\ta\\tquiet\\tlane.\\tBeginning\\tto\\tfeel\\tthe\\tfirst\\ttraces\\tof\\tpanic,\\tshe\\tquickened\\nher\\tsteps.\\tBut\\tit\\tonly\\ttook\\ther\\tthe\\twrong\\tway,\\tfaster.\\n\\u2018Sorry!\\u2019\\tcried\\tSita,\\tas\\tshe\\tbanged\\tinto\\tsomeone.\\nThe\\tdark-skinned\\tgirl\\tlooked\\tlike\\tan\\tadolescent;\\tperhaps\\tolder.\\tShe\\thad\\ta\\ndirty,\\tunkempt\\tlook\\tabout\\ther.\\tThe\\tstench\\tfrom\\ther\\ttattered\\tclothes\\tsuggested\\nthat\\tshe\\thad\\tnot\\tchanged\\tthem\\tfor\\ta\\twhile.\\tLice\\tcrawled\\tover\\tthe\\tsurface\\tof\\ther\\nmatted,\\tunwashed\\thair.\\tShe\\twas\\ttall,\\tlean,\\tand\\tsurprisingly\\tmuscular.\\tHer\\tfeline\\neyes\\tand\\tscarred\\tbody\\tgave\\ther\\ta\\tdangerous,\\tedgy\\tlook.\\nShe\\tstared\\tat\\tSita\\u2019s\\tface\\tand\\tthen\\tat\\ther\\thands.\\tThere\\twas\\ta\\tsudden\\tflash\\tof\\nrecognition\\tin\\ther\\teyes,\\tas\\tthough\\tsensing\\tan\\topportunity.\\tSita,\\tmeanwhile,\\thad\\ndarted\\tinto\\tan\\tadjacent\\tlane.\\tThe\\tPrincess\\tof\\tMithila\\tpicked\\tup\\tpace,\\talmost\\nbreaking\\tinto\\ta\\tdesperate\\trun.\\tPraying\\tthat\\tthis\\twas\\tthe\\tcorrect\\tpath\\tout\\tof\\tthe\\nslum.\\nSweat\\tbeads\\twere\\tbreaking\\tout\\ton\\ther\\tforehead.\\tShe\\ttried\\tto\\tsteady\\ther\\tbreath.\\nShe\\tcouldn\\u2019t.\\nShe\\tkept\\trunning.\\tTill\\tshe\\twas\\tforced\\tto\\tstop.\\n\\u2018Lord\\tRudra\\tbe\\tmerciful.\\u2019\\nShe\\thad\\tscreeched\\tto\\ta\\thalt,\\tconfronted\\tby\\ta\\tsolid\\tbarrier\\t\\nwall.\\tShe\\twas\\tnow\\nwell\\tand\\ttruly\\tlost,\\tfinding\\therself\\tat\\tthe\\tother\\tend\\tof\\tthe\\tslum\\twhich\\tabutted\\tthe\\ninner\\tfort\\twall.\\tThe\\tinner\\tcity\\tof\\tMithila\\twas\\tas\\tfar\\tas\\tit\\tcould\\tbe.\\tIt\\twas\\teerily\\nquiet,\\twith\\tscarcely\\tanyone\\taround.\\tThe\\tsun\\thad\\talmost\\tset,\\tand\\tthe\\tfaint\\nsnatches\\tof\\ttwilight\\tonly\\temphasised\\tthe\\tdarkness.\\tShe\\tdid\\tnot\\tknow\\twhat\\tto\\tdo.\\n\\u2018Who\\tis\\tthis\\tnow?\\u2019\\tA\\tvoice\\twas\\theard\\tfrom\\tbehind\\ther.\\nSita\\twhirled\\taround,\\tready\\tto\\tstrike.\\tShe\\tsaw\\ttwo\\tadolescent\\tboys\\tmoving\\ntowards\\ther\\tfrom\\tthe\\tright.\\tShe\\tturned\\tleft.\\tAnd\\tran.\\tBut\\tdid\\tnot\\tget\\tfar.\\tA\\tleg\\nstuck\\tout\\tand\\ttripped\\ther,\\tmaking\\ther\\tfall\\tflat\\ton\\ther\\tface.\\tInto\\tthe\\tmuck.\\tThere\\nwere\\tmore\\tof\\tthem.\\tShe\\tgot\\tup\\tquickly\\tand\\tgrabbed\\ther\\tstick.\\tFive\\tboys\\thad\\ngathered\\taround\\ther.\\tCasual\\tmenace\\ton\\ttheir\\tfaces.\\nHer\\tmother\\thad\\twarned\\ther\\tabout\\tthe\\tcrimes\\tin\\tthe\\tslums.\\tOf\\tpeople\\tgetting\\nbeaten\\tup.\\tBut\\tSita\\thad\\tnot\\tbelieved\\tthose\\tstories,\\tthinking\\tthat\\tthe\\tsweet\\tpeople\",\n",
      "        0.689289391040802\n",
      "    ]\n",
      "]\n"
     ]
    }
   ],
   "source": [
    "retrieved_lines_with_distances = [\n",
    "    (res[\"entity\"][\"text\"], res[\"distance\"]) for res in search_res[0]\n",
    "]\n",
    "print(json.dumps(retrieved_lines_with_distances, indent=4))"
   ]
  },
  {
   "cell_type": "code",
   "execution_count": 15,
   "metadata": {},
   "outputs": [],
   "source": [
    "context = \"\\n\".join(\n",
    "    [line_with_distance[0] for line_with_distance in retrieved_lines_with_distances]\n",
    ")"
   ]
  },
  {
   "cell_type": "code",
   "execution_count": 16,
   "metadata": {},
   "outputs": [
    {
     "data": {
      "text/plain": [
       "'The text you provided is an excerpt from a fictional novel, likely a reimagining of the Ramayana. It details a dramatic battle scene where Sita, wife of Rama, finds herself defending against Lankan soldiers who are searching for her. \\n\\nHere\\'s a breakdown of the scene:\\n\\n* **Setting:** The scene takes place in a temporary camp, likely in the forest, showing signs of a fierce struggle. \\n* **Characters:**\\n    * **Sita:** The protagonist of the scene, portrayed as a strong and resourceful warrior skilled in archery and knife throwing. She is deeply loyal to her husband, Rama, and her people.\\n    * **Jatayu:** A brave Malayaputra captain and a father figure to Sita, described as a \"Naga\" with a vulture-like face due to a deformity. He is captured and brutally tortured by the Lankans.\\n    * **Khara:** The main antagonist, a cruel Lankan captain leading the search for Sita. He enjoys inflicting pain and uses Jatayu\\'s life as leverage. \\n    * **Kumbhakarna:** Raavan\\'s brother, present at the scene but not directly involved in the confrontation with Sita.\\n    * **Raavan:** Briefly mentioned as observing the interrogation, highlighting his role as the mastermind behind the events.\\n    * **Lankan Soldiers:** Numerous, some skilled warriors, others easily dispatched by Sita.\\n    * **Malayaputra Soldiers:** All dead except for Jatayu and two others who are captured and later killed.\\n* **Plot:**\\n    1. **Sita\\'s Arrival:** Sita stealthily approaches the camp after killing two Lankan soldiers, witnessing the aftermath of the battle and Jatayu’s capture.\\n    2. **Jatayu\\'s Interrogation:** The Lankans, aware of Sita\\'s identity as the \"Vishnu,\" torture Jatayu to reveal her location. \\n    3. **Sita\\'s Intervention:** Unable to watch Jatayu suffer, Sita reveals herself, using her archery skills to kill a soldier and wound Khara.\\n    4. **Khara\\'s Offer:** Khara, recognizing Sita, offers a deal: her surrender in exchange for the lives of Jatayu and the remaining Malayaputras.\\n    5. **Jatayu\\'s Defiance:** Jatayu urges Sita to flee, valuing her life over his own. \\n    6. **Khara\\'s Cruelty:** Enraged, Khara fatally wounds Jatayu.\\n    7. **Sita\\'s Fury:** Grief-stricken, Sita kills Khara with an arrow to the eye.\\n    8. **Unequal Fight:** Outnumbered but undeterred, Sita fights back with her bow and then a stolen *lathi*, holding off the Lankan soldiers.\\n    9. **Standoff:**  Sita, exhausted but defiant, stands surrounded, calling out for Rama while the Lankans try to convince her to surrender peacefully.\\n\\n**Themes:**\\n\\n* **Duty and Loyalty:** Sita’s fierce loyalty to Jatayu and her people is evident in her actions.\\n* **Courage and Strength:**  Sita exhibits immense courage and fighting prowess, facing overwhelming odds to protect her loved ones.\\n* **Cruelty and Violence:** The excerpt doesn\\'t shy away from depicting the brutality of war and the Lankans\\' cruelty. \\n\\n**Overall:** The passage is a gripping action sequence that highlights Sita\\'s strength, resilience, and compassion. It leaves the reader on a cliffhanger, wondering if Rama will hear her cries and come to her rescue. \\n\\nThe provided text is an excerpt from a fictional novel, likely a retelling of the Ramayana from Sita\\'s perspective. \\n\\nThe excerpt focuses on Sita\\'s early life in Mithila, where she is raised by King Janak and Queen Sunaina after being found in a furrow. \\n\\n**Here\\'s a breakdown of the key points:**\\n\\n* **Sita\\'s Arrival:** The excerpt begins with Sita\\'s arrival in Mithila. Found as a baby, she is lovingly adopted by the childless King Janak and Queen Sunaina. They name her Sita, signifying her connection to the earth.\\n* **Political Turmoil:** News arrives of Emperor Dashrath\\'s defeat at the hands of Raavan, a powerful ruler from Lanka. This defeat throws the Sapt Sindhu (the region encompassing seven rivers, including the Indus) into turmoil.  People blame the newborn Ram, Dashrath’s son, for the misfortune.\\n* **Sunaina\\'s Concerns:** Queen Sunaina, a pragmatic and capable ruler, worries about the safety and stability of Mithila in the wake of Raavan\\'s victory and the potential for increased lawlessness.\\n* **Janak\\'s Philosophical Approach:** King Janak, immersed in philosophical pursuits, reacts with more detachment. He emphasizes acceptance of fate and learning from experiences.\\n* **Life in Mithila:** Despite the external unrest, life in Mithila remains relatively peaceful. Sunaina implements administrative reforms, strengthens the local police force, and ensures the well-being of her people.\\n* **Sita\\'s Birthday Celebration:** Sita\\'s birthday is celebrated with great fanfare. The occasion is marked by acts of charity and a visit to the grand temple of Lord Rudra.\\n* **Sita\\'s Compassion:** The excerpt highlights Sita\\'s compassionate nature. She mourns the death of a vulture that saved her life and expresses concern for the poor living in the slums near the temple. \\n* **Ashtaavakra\\'s Arrival:** The excerpt ends with the arrival of Ashtaavakra, a revered sage and Janak\\'s chief guru (teacher), hinting at the philosophical education Sita might receive.\\n\\n**Overall, the excerpt sets the stage for Sita\\'s upbringing in a kingdom known for its wisdom and peace, even as a powerful enemy threatens the larger region.** The contrasting personalities of her adoptive parents, one a practical ruler and the other a philosopher king, suggest the balanced upbringing Sita might receive. This excerpt also foreshadows the significant role fate and destiny will play in Sita\\'s life. \\n\\nShe\\thadn’t\\treally\\tunderstood\\tthe\\twords\\tthen.\\tShe\\tdid\\tnow.\\nSita\\tturned\\taround.\\tShe’d\\tseen\\tenough\\tof\\tthe\\tslums\\tfor\\ther\\tfirst\\ttrip.\\tShe\\npromised\\therself\\tthat\\tshe\\twould\\treturn\\tsoon.\\tTime\\tto\\tgo\\tback\\tto\\tthe\\tpalace.\\nThere\\twere\\tfour\\ttiny\\tlanes\\tahead.\\t\\nWhich\\tone\\tdo\\tI\\ttake?\\nUncertain,\\tshe\\ttook\\tthe\\tleft-most\\tone\\tand\\tbegan\\tto\\twalk.\\tShe\\tkept\\tmoving.\\nBut\\tthe\\tslum\\tborder\\twas\\tnowhere\\tin\\tsight.\\tHer\\theartbeat\\tquickened\\tas\\tshe\\nnervously\\thastened\\ther\\tpace.\\nThe\\tlight\\thad\\tbegun\\tto\\tfade.\\tEvery\\tchaotic\\tlane\\tseemed\\tto\\tend\\tat\\ta\\tcrossroads\\nof\\tseveral\\tother\\tpaths.\\tAll\\thaphazard,\\tall\\tdisorganised.\\tConfused,\\tshe\\tblindly\\nturned\\tinto\\ta\\tquiet\\tlane.\\tBeginning\\tto\\tfeel\\tthe\\tfirst\\ttraces\\tof\\tpanic,\\tshe\\tquickened\\nher\\tsteps.\\tBut\\tit\\tonly\\ttook\\ther\\tthe\\twrong\\tway,\\tfaster.\\n‘Sorry!’\\tcried\\tSita,\\tas\\tshe\\tbanged\\tinto\\tsomeone.\\nThe\\tdark-skinned\\tgirl\\tlooked\\tlike\\tan\\tadolescent;\\tperhaps\\tolder.\\tShe\\thad\\ta\\ndirty,\\tunkempt\\tlook\\tabout\\ther.\\tThe\\tstench\\tfrom\\ther\\ttattered\\tclothes\\tsuggested\\nthat\\tshe\\thad\\tnot\\tchanged\\tthem\\tfor\\ta\\twhile.\\tLice\\tcrawled\\tover\\tthe\\tsurface\\tof\\ther\\nmatted,\\tunwashed\\thair.\\tShe\\twas\\ttall,\\tlean,\\tand\\tsurprisingly\\tmuscular.\\tHer\\tfeline\\neyes\\tand\\tscarred\\tbody\\tgave\\ther\\ta\\tdangerous,\\tedgy\\tlook.\\nShe\\tstared\\tat\\tSita’s\\tface\\tand\\tthen\\tat\\ther\\thands.\\tThere\\twas\\ta\\tsudden\\tflash\\tof\\nrecognition\\tin\\ther\\teyes,\\tas\\tthough\\tsensing\\tan\\topportunity.\\tSita,\\tmeanwhile,\\thad\\ndarted\\tinto\\tan\\tadjacent\\tlane.\\tThe\\tPrincess\\tof\\tMithila\\tpicked\\tup\\tpace,\\talmost\\nbreaking\\tinto\\ta\\tdesperate\\trun.\\tPraying\\tthat\\tthis\\twas\\tthe\\tcorrect\\tpath\\tout\\tof\\tthe\\nslum.\\nSweat\\tbeads\\twere\\tbreaking\\tout\\ton\\ther\\tforehead.\\tShe\\ttried\\tto\\tsteady\\ther\\tbreath.\\nShe\\tcouldn’t.\\nShe\\tkept\\trunning.\\tTill\\tshe\\twas\\tforced\\tto\\tstop.\\n‘Lord\\tRudra\\tbe\\tmerciful.’\\nShe\\thad\\tscreeched\\tto\\ta\\thalt,\\tconfronted\\tby\\ta\\tsolid\\tbarrier\\t\\nwall.\\tShe\\twas\\tnow\\nwell\\tand\\ttruly\\tlost,\\tfinding\\therself\\tat\\tthe\\tother\\tend\\tof\\tthe\\tslum\\twhich\\tabutted\\tthe\\ninner\\tfort\\twall.\\tThe\\tinner\\tcity\\tof\\tMithila\\twas\\tas\\tfar\\tas\\tit\\tcould\\tbe.\\tIt\\twas\\teerily\\nquiet,\\twith\\tscarcely\\tanyone\\taround.\\tThe\\tsun\\thad\\talmost\\tset,\\tand\\tthe\\tfaint\\nsnatches\\tof\\ttwilight\\tonly\\temphasised\\tthe\\tdarkness.\\tShe\\tdid\\tnot\\tknow\\twhat\\tto\\tdo.\\n‘Who\\tis\\tthis\\tnow?’\\tA\\tvoice\\twas\\theard\\tfrom\\tbehind\\ther.\\nSita\\twhirled\\taround,\\tready\\tto\\tstrike.\\tShe\\tsaw\\ttwo\\tadolescent\\tboys\\tmoving\\ntowards\\ther\\tfrom\\tthe\\tright.\\tShe\\tturned\\tleft.\\tAnd\\tran.\\tBut\\tdid\\tnot\\tget\\tfar.\\tA\\tleg\\nstuck\\tout\\tand\\ttripped\\ther,\\tmaking\\ther\\tfall\\tflat\\ton\\ther\\tface.\\tInto\\tthe\\tmuck.\\tThere\\nwere\\tmore\\tof\\tthem.\\tShe\\tgot\\tup\\tquickly\\tand\\tgrabbed\\ther\\tstick.\\tFive\\tboys\\thad\\ngathered\\taround\\ther.\\tCasual\\tmenace\\ton\\ttheir\\tfaces.\\nHer\\tmother\\thad\\twarned\\ther\\tabout\\tthe\\tcrimes\\tin\\tthe\\tslums.\\tOf\\tpeople\\tgetting\\nbeaten\\tup.\\tBut\\tSita\\thad\\tnot\\tbelieved\\tthose\\tstories,\\tthinking\\tthat\\tthe\\tsweet\\tpeople'"
      ]
     },
     "execution_count": 16,
     "metadata": {},
     "output_type": "execute_result"
    }
   ],
   "source": [
    "context"
   ]
  },
  {
   "cell_type": "code",
   "execution_count": 56,
   "metadata": {},
   "outputs": [
    {
     "name": "stdout",
     "output_type": "stream",
     "text": [
      "Sita is the protagonist of the novel excerpt. She is a young girl who is dealing with the death of her mother, Sunaina, and has a mysterious past surrounding her birth and adoption. \n",
      "\n"
     ]
    }
   ],
   "source": [
    "from langchain import hub\n",
    "from langchain_core.runnables import RunnablePassthrough\n",
    "from langchain_core.output_parsers import StrOutputParser\n",
    "\n",
    "# Pull the prompt from LangChain Hub\n",
    "prompt = hub.pull(\"rlm/rag-prompt\")\n",
    "\n",
    "# Post-processing function\n",
    "def format_docs(context):\n",
    "    return context\n",
    "\n",
    "# Initialize the language model\n",
    "llm = ChatGoogleGenerativeAI(model=\"gemini-1.5-flash-001\")\n",
    "\n",
    "# Chain definition\n",
    "rag_chain = (\n",
    "    {\"context\": RunnablePassthrough() | format_docs, \"question\": RunnablePassthrough()}\n",
    "    | prompt\n",
    "    | llm\n",
    "    | StrOutputParser()\n",
    ")\n",
    "\n",
    "question = \"Who is sita?\"\n",
    "\n",
    "# Invoke the chain with the context and question\n",
    "response = rag_chain.invoke({\"context\": context, \"question\": question})\n",
    "\n",
    "# Print the response\n",
    "print(response)"
   ]
  }
 ],
 "metadata": {
  "kernelspec": {
   "display_name": "raptor",
   "language": "python",
   "name": "python3"
  },
  "language_info": {
   "codemirror_mode": {
    "name": "ipython",
    "version": 3
   },
   "file_extension": ".py",
   "mimetype": "text/x-python",
   "name": "python",
   "nbconvert_exporter": "python",
   "pygments_lexer": "ipython3",
   "version": "3.12.2"
  }
 },
 "nbformat": 4,
 "nbformat_minor": 2
}
